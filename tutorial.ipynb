{
 "cells": [
  {
   "cell_type": "markdown",
   "metadata": {},
   "source": [
    "<img src=\"https://images.unsplash.com/photo-1504805572947-34fad45aed93?ixlib=rb-1.2.1&ixid=eyJhcHBfaWQiOjEyMDd9&auto=format&fit=crop&w=350&q=80\" align=\"center\"/>\n",
    "\n",
    "# Criação de de uma Applicação de Linha de Comandos com Ruby\n",
    "por: Júlio Papel\n",
    "\n",
    "\n",
    "O interesse deste tutorial é promover a apredizagem, a curiosidade e o raciocínio lógico ao criar uma aplicaçao de linha de comandos CLI (\"Command Line Interface\"). Este tutorial baseia-se em uma ideia do meu grande amigo Paulo Pinhal em criar uma aplicaçao para gerir o servidor minetest nas escolas. Este tutorial não implementa as fucionalidades para gerir o servidor minetest, contudo demonstra o processo lógico e estrutura para que possas tu criar o teu proprio CLI, quer seja do minetest ou outro.\n",
    "Ainda em esta applicação de Ruby os comando a executar são representados com o metodo ``` puts ``` e apenas imprimem no terminal a composição e estrutura de um possivél comando, verbo ou opção.\n",
    "\n",
    "_Nome_: minetest-cli\n",
    "\n",
    "_comandos a executar_:"
   ]
  },
  {
   "cell_type": "markdown",
   "metadata": {},
   "source": [
    "```\n",
    "$ minetest-cli server [ start | stop | restart ] [ [-m --map] with_map_name ]\n",
    "$ minetest-cli generate [ map | template ] [ map_name ] [ [-f --from] from_map_name ]\n",
    "$ minetest-cli edit [ map | template ] [ map_name / map_template_name ]\n",
    "$ minetest-cli backup [list | create | restore ] [map_name] [-L back_number_levels]\n",
    "$ minetest-cli remove \n",
    "$ minetest-cli help\n",
    "```"
   ]
  },
  {
   "cell_type": "markdown",
   "metadata": {},
   "source": [
    "## 1- Criar o esqueleto para minetest-cli\n",
    " \n",
    "Começamos por criar um directório para a nossa applicação. "
   ]
  },
  {
   "cell_type": "markdown",
   "metadata": {},
   "source": [
    "```\n",
    "$ mkdir minetest-cli\n",
    "```"
   ]
  },
  {
   "cell_type": "markdown",
   "metadata": {},
   "source": [
    "No meu caso uso o TextMate -> `mate` como editor de código, podes usar outro editor como `Atom`, `VIM`, `VS Code`, ..."
   ]
  },
  {
   "cell_type": "markdown",
   "metadata": {},
   "source": [
    "```\n",
    "$ mate minetest-cli\n",
    "```"
   ]
  },
  {
   "cell_type": "markdown",
   "metadata": {},
   "source": [
    "Agora como tenho intalado o gestor de versões de ruby `RVM` (Podia também ser `RBEnv`) injectamos em um novo ficheiro a versão do ruby que esta actualmente activa."
   ]
  },
  {
   "cell_type": "markdown",
   "metadata": {},
   "source": [
    "```\n",
    "$ echo $RUBY_VERSION > minetest-cli/.ruby-version\n",
    "```"
   ]
  },
  {
   "cell_type": "markdown",
   "metadata": {},
   "source": [
    "E criamos o esqueleto GEM no Bundler."
   ]
  },
  {
   "cell_type": "markdown",
   "metadata": {},
   "source": [
    "```\n",
    "$ bundle gem minetest-cli\n",
    "```"
   ]
  },
  {
   "cell_type": "markdown",
   "metadata": {},
   "source": [
    "E mudamos para o directório da aplicação. Todos os comandos descritos são executados em este directório salvo explicitamente indicado."
   ]
  },
  {
   "cell_type": "markdown",
   "metadata": {},
   "source": [
    "Agora é uma boa altura para criar o repositório no GitHub. Este exemplo pode ser encontrado já criado em:\n",
    "  https://github.com/JulioPapel/minetest-cli.git"
   ]
  },
  {
   "cell_type": "markdown",
   "metadata": {},
   "source": [
    "1.  No canto superior direito em qualquer página, usa o <svg version=\"1.1\" width=\"12\" height=\"16\" viewBox=\"0 0 12 16\" class=\"octicon octicon-plus\" aria-hidden=\"true\"><path fill-rule=\"evenodd\" d=\"M12 9H7v5H5V9H0V7h5V2h2v5h5v2z\"></path></svg> do menu drop-down e sececciona **New repository**. \n",
    "\n",
    "    ![Drop-down with option to create a new repository](docs/img/github0.png)\n",
    "\n",
    "2.  Digite um nome pequeno, fácil de memorizar para o repositório. por exemplo, \"minetest-cli\". \n",
    "\n",
    "    ![Campo para inserir um nome de repositório](docs/img/github1.png)\n",
    "\n",
    "3.  Escolhe se o repositório é publico ou privado. Repositórios privados requerem uma subscrição no Github.Para obter mais informações, consulta \"[Configurar visibilidade do repositório](https://help.github.com/pt/articles/setting-repository-visibility)\". \n",
    "\n",
    "    ![Botões de opção para selecionar status privado ou público](docs/img/github2.png)\n",
    "\n",
    "5.  Não selecione **Initialize this repository with a README** (Inicializar este repositório com um LEIAME). \n",
    "\n",
    "    ![Caixa de seleção para criar um LEIAME quando o repositório é criado](docs/img/github3.png)\n",
    "\n",
    "6.  Clique em **Create Repository** (Criar repositório).\n",
    "\n",
    "7.  Copia o endereço do teu repositório.\n",
    "    \n",
    "    ![Copiar o endereço do repositório ](docs/img/github4.png)\n",
    "    \n",
    "    e no terminal usando o teu repositório executa: \n"
   ]
  },
  {
   "cell_type": "markdown",
   "metadata": {},
   "source": [
    "```\n",
    "$ cd minetest-cli\n",
    "$ git status\n",
    "$ git add .\n",
    "$ git commit -am \"Initial commit\"\n",
    "$ git tag -a v0.1 -m \"beta version 0.1\"\n",
    "$ git remote add origin https://github.com/JulioPapel/minetest-cli.git\n",
    "```"
   ]
  },
  {
   "cell_type": "markdown",
   "metadata": {},
   "source": [
    "## 2- Alterar os TODO's na gemspec\n",
    " \n",
    "No editor de código (no meu caso o TextMate mas pode ser o VIM, Microsoft Code, ou outro) abrir a pasta do projecto:\n",
    "(ex. \"vi .\", \"code .\", \"textedit .\", ... )"
   ]
  },
  {
   "cell_type": "markdown",
   "metadata": {},
   "source": [
    "```\n",
    "$ mate .\n",
    "```"
   ]
  },
  {
   "cell_type": "markdown",
   "metadata": {},
   "source": [
    "alterar todos os valores onde aparece \"TODO\" no ficheiro ```minetest-cli.gemspec```"
   ]
  },
  {
   "cell_type": "markdown",
   "metadata": {},
   "source": [
    "```ruby\n",
    "...\n",
    "  spec.summary       = \"A Minetest Server Custom tool\"\n",
    "  spec.description   = \"Minetest Server CLI tool to manage the Server, worlds maps, etc..\"\n",
    "  spec.homepage      = \"http://mywebsite.com/minetest-cli\" # website da tua applicação\n",
    "...\n",
    "  spec.metadata[\"allowed_push_host\"] = \"http://rubygems.org\" # Servidor para publicar a gem.\n",
    "...\n",
    "  spec.metadata[\"source_code_uri\"] = \"https://github.com/JulioPapel/minetest-cli\"\n",
    "  spec.metadata[\"changelog_uri\"] = \"https://github.com/JulioPapel/minetest-cli/CHANGELOG.md\"\n",
    "```\n"
   ]
  },
  {
   "cell_type": "markdown",
   "metadata": {},
   "source": [
    "Atenção ao servidor onde publicam as gems, Se usares o http://rubygems.org a tua aplicação sera compilada em uma gem e fica publica, livre e accessivéel por todas as pessoas e computadores. Podes optar por publicar em outro servidor ou usar um servidor privado."
   ]
  },
  {
   "cell_type": "markdown",
   "metadata": {},
   "source": [
    "Adicionar e enviar as alterações para o repositório github:"
   ]
  },
  {
   "cell_type": "markdown",
   "metadata": {},
   "source": [
    "```\n",
    "$ git status\n",
    "$ git commit -am \"Initial gem Skeleton\"\n",
    "$ git push -u origin master\n",
    "$ git push --tags\n",
    "```"
   ]
  },
  {
   "cell_type": "markdown",
   "metadata": {},
   "source": [
    "## 3- Preparar o CHANGELOG\n",
    "Adicionar uma nova gem \"Github_Changelog_Generator\". Esta libraria detecta as versões e os commits no github e adiciona as no ficheiro CHANGELOG.md\n",
    "\n",
    "Adicionar no final do ficheiro ```minetest-cli.gemspec``` a depdencia no gemspec\n",
    "```ruby\n",
    "...\n",
    "  spec.add_development_dependency \"github_changelog_generator\"\n",
    "end\n",
    "```"
   ]
  },
  {
   "cell_type": "markdown",
   "metadata": {},
   "source": [
    "```\n",
    "$ bundle install\n",
    "ou\n",
    "$ gem install github_changelog_generator\n",
    "\n",
    "$ github_changelog_generator --user JulioPapel --project minetest-cli\n",
    "$ git add .\n",
    "$ git commit -m \"auto updated changelog\"\n",
    "$ git push\n",
    "```"
   ]
  },
  {
   "cell_type": "markdown",
   "metadata": {},
   "source": [
    "Alterar o ficheiro ```Rakefile``` para requerer 'github_changelog_generator/task' e criar uma tarefa\n",
    "   \"Rake task\" apenas para facilitar a utilização do \"github_changelog_generator\" no ambiente de desenvolvimento."
   ]
  },
  {
   "cell_type": "markdown",
   "metadata": {},
   "source": [
    "```ruby\n",
    "require \"bundler/gem_tasks\"\n",
    "require 'github_changelog_generator/task'\n",
    "task :default => :spec\n",
    "\n",
    "GitHubChangelogGenerator::RakeTask.new :changelog_gen do |config|\n",
    "    config.user = 'JulioPapel'\n",
    "    config.project = 'minetest-cli'\n",
    "    # config.token = \"YOUR GITHUB TOKEN\"\n",
    "    config.future_release = 'v1.0'\n",
    "    config.release_branch = \"master\"\n",
    "    config.date_format = \"%d-%m-%Y\"\n",
    "    config.header = \"# Minetest Changes Log.\"\n",
    "    config.simple_list = true\n",
    "  \n",
    "end\n",
    "``` \n"
   ]
  },
  {
   "cell_type": "markdown",
   "metadata": {},
   "source": [
    "O token pode ser omitido em este caso já que o repositório não é privado.\n",
    "\n",
    "Continuando no ficheiro ```Rakefile``` Vamos modificar a tarefa predefinida do changelog escondendo a tarefa da lista de tarefas ```Rake -T``` para isso adicionamos depois da tarefa:\n",
    "\n",
    "```ruby\n",
    "...\n",
    "Rake::Task['changelog_gen'].clear_comments\n",
    "```"
   ]
  },
  {
   "cell_type": "markdown",
   "metadata": {},
   "source": [
    "Usando esta tarefa vamos agora modificar o ficheiro ```CHANGELOG.md``` e substituir a ultima linha. Para isso vamos criar e incluir uma nova classe de ruby com o nome \"FileHelper\" e ajudar a fazer as alterações na tarefa:"
   ]
  },
  {
   "cell_type": "markdown",
   "metadata": {},
   "source": [
    "```\n",
    "$ mkdir lib/helpers\n",
    "$ touch lib/helpers/file_helper.rb \n",
    "```"
   ]
  },
  {
   "cell_type": "markdown",
   "metadata": {},
   "source": [
    " E addicionamos ao ```file_helper.rb```:\n",
    " \n",
    " ```ruby\n",
    "module Minetest\n",
    "  module Helpers\n",
    "    class FileHelper\n",
    "      require 'tempfile'\n",
    " \n",
    "        def remove_lines(filename, start, num)\n",
    "          tmp = Tempfile.open(filename) do |fp|\n",
    "            File.foreach(filename) do |line|\n",
    "              \n",
    "              if $. >= start and num > 0\n",
    "                num -= 1\n",
    "              else\n",
    "                fp.puts line\n",
    "              end\n",
    "            end\n",
    "            fp\n",
    "          end\n",
    "          \n",
    "          puts \"Warning: EOF\" if num > 0\n",
    "          FileUtils.copy(tmp.path, filename)\n",
    "          tmp.unlink\n",
    "        end\n",
    "        \n",
    "        def append_lines(filename, content)\n",
    "          File.open(filename, 'a') do |io|\n",
    "            io.puts content\n",
    "          end\n",
    "        end\n",
    "              \n",
    "    end\n",
    "  end\n",
    "end\n",
    "```"
   ]
  },
  {
   "cell_type": "markdown",
   "metadata": {},
   "source": [
    "Agora voltamos e modificamos o ficheiro ```Rakefile``` para adicionar uma tarefa update_log personalizada que utiliza o novo FileHelper:\n",
    "```ruby\n",
    "...\n",
    "desc 'Compile the changelog file from github commits, issues, etc..'\n",
    "task :changelog do\n",
    "  Rake::Task['changelog_gen'].invoke\n",
    "  helper = Minetest::Helpers::FileHelper.new\n",
    "  helper.remove_lines(\"CHANGELOG.md\", 9, 1)\n",
    "  helper.append_lines(\"CHANGELOG.md\", \"Copyright © 2020 Júlio Papel\")\n",
    "end\n",
    "```  "
   ]
  },
  {
   "cell_type": "markdown",
   "metadata": {},
   "source": [
    "Agora para atualizar o CHANGELOG com as alterações da nossa aplicação usamos a nova tarefa changelog que criamos no Rake, sempre que precisar-mos e no final de adicionar uma nova funcionalidade ou correcção, assim atualizar e enviar para o github:"
   ]
  },
  {
   "cell_type": "markdown",
   "metadata": {},
   "source": [
    "```\n",
    "$ rake changelog\n",
    "```"
   ]
  },
  {
   "cell_type": "markdown",
   "metadata": {},
   "source": [
    "e mandamos para o github"
   ]
  },
  {
   "cell_type": "markdown",
   "metadata": {},
   "source": [
    "```\n",
    "$ git add .\n",
    "$ git commit -am \"Added changelog rake task\"\n",
    "$ git log --pretty=oneline\n",
    "$ git tag -fa v0.1 fae9ed... \n",
    "\n",
    "```"
   ]
  },
  {
   "cell_type": "markdown",
   "metadata": {},
   "source": [
    "substituir o fae9ed... com o último commit id do comando anterior \"git log\""
   ]
  },
  {
   "cell_type": "markdown",
   "metadata": {},
   "source": [
    "```\n",
    "$ git push\n",
    "$ git push --tags -f\n",
    "```"
   ]
  },
  {
   "cell_type": "markdown",
   "metadata": {},
   "source": [
    "## 4 - modificar a localização do executavél \n",
    "em ```minetest-cli.gemspec``` de ```exe``` para ```bin```\n",
    "```ruby\n",
    "...\n",
    "spec.bindir        = \"bin\"\n",
    "spec.executables   = spec.files.grep(%r{^bin/}) { |f| File.basename(f) }\n",
    "...\n",
    "```"
   ]
  },
  {
   "cell_type": "markdown",
   "metadata": {},
   "source": [
    "e addicionar ao mesmo ficheiro ```minetest-cli.gemspec``` as novas dependencias externas e as dependencias de desenvolvimento que vamos usar:\n",
    "```ruby\n",
    "...\n",
    "spec.add_dependency 'thor'\n",
    "spec.add_dependency 'httparty'\n",
    "spec.add_dependency 'highline'\n",
    "\n",
    "spec.add_development_dependency \"bundler\"\n",
    "spec.add_development_dependency \"rake\"\n",
    "spec.add_development_dependency \"github_changelog_generator\"\n",
    "...\n",
    "```"
   ]
  },
  {
   "cell_type": "markdown",
   "metadata": {},
   "source": [
    "#### Criar o binario executavél"
   ]
  },
  {
   "cell_type": "markdown",
   "metadata": {},
   "source": [
    "```\n",
    "$ touch bin/minetest-cli\n",
    "```"
   ]
  },
  {
   "cell_type": "markdown",
   "metadata": {},
   "source": [
    "Addicionar ao ```bin/minetest-cli``` \n",
    "```ruby\n",
    "#!/usr/bin/env ruby -wU\n",
    "\n",
    "require 'minetest/cli'\n",
    "\n",
    "puts \"Hello, world!\"\n",
    "```"
   ]
  },
  {
   "cell_type": "markdown",
   "metadata": {},
   "source": [
    "#### Alterar as permissões do executavél"
   ]
  },
  {
   "cell_type": "markdown",
   "metadata": {},
   "source": [
    "```\n",
    "$ chmod +x bin/minetest-cli\n",
    "$ bundle install\n",
    "$ bundle exec bin/minetest-cli\n",
    "```"
   ]
  },
  {
   "cell_type": "markdown",
   "metadata": {},
   "source": [
    "## 5 - Criar a interface de comandos \n",
    "```lib/minetest/command_interface.rb```"
   ]
  },
  {
   "cell_type": "markdown",
   "metadata": {},
   "source": [
    "```\n",
    "$ touch lib/minetest/command_interface.rb\n",
    "```"
   ]
  },
  {
   "cell_type": "markdown",
   "metadata": {},
   "source": [
    "Utilizando a gem \"thor\" vamos criar o hello world no modulo para os comandos:\n",
    "```ruby\n",
    "require 'thor'\n",
    "\n",
    "module Minetest\n",
    "  class CommandInterface < Thor\n",
    "    desc \"hello NAME\", \"This will greet you\"\n",
    "    long_desc <<-HELLO_WORLD\n",
    "\n",
    "    `hello NAME` will print out a message to the person of your choosing.\n",
    "\n",
    "    Brian Kernighan actually wrote the first \"Hello, World!\" program\n",
    "    as part of the documentation for the BCPL programming language\n",
    "    developed by Martin Richards. BCPL was used while C was being\n",
    "    developed at Bell Labs a few years before the publication of\n",
    "    Kernighan and Ritchie's C book in 1972.\n",
    "    \n",
    "    HELLO_WORLD\n",
    "    \n",
    "    option :upcase\n",
    "    def hello( name )\n",
    "      greeting = \"Hello, #{name}\"\n",
    "      greeting.upcase! if options[:upcase]\n",
    "      puts greeting\n",
    "    end\n",
    "  end\n",
    "end\n",
    "```"
   ]
  },
  {
   "cell_type": "markdown",
   "metadata": {},
   "source": [
    " Incluir a clase CommandInterface no ficheiro ```lib/minetest/cli.rb```\n",
    "```ruby\n",
    "...\n",
    "require \"minetest/command_interface\"\n",
    "```"
   ]
  },
  {
   "cell_type": "markdown",
   "metadata": {},
   "source": [
    "Alterar o ```bin/minetest-cli``` para inicializar com a clase CommandInterface\n",
    "```ruby\n",
    "#!/usr/bin/env ruby -wU\n",
    "\n",
    "require 'minetest/cli'\n",
    "\n",
    "Minetest::CommandInterface.start( ARGV )\n",
    "```"
   ]
  },
  {
   "cell_type": "markdown",
   "metadata": {},
   "source": [
    "Testamos se tudo funciona sem problemas. Qualquer problema deve ser resolvido antes de continuar.\n",
    "O ```bundle exec``` grante que estamos a testar esta applicação e não uma versão instalada préviamente no sistema."
   ]
  },
  {
   "cell_type": "markdown",
   "metadata": {},
   "source": [
    "```\n",
    "$ bundle exec bin/minetest-cli\n",
    "$ bundle exec bin/minetest-cli hello\n",
    "$ bundle exec bin/minetest-cli hello world\n",
    "$ bundle exec bin/minetest-cli hello world --upcase\n",
    "$ bundle exec bin/minetest-cli help\n",
    "$ bundle exec bin/minetest-cli help hello\n",
    "```"
   ]
  },
  {
   "cell_type": "markdown",
   "metadata": {},
   "source": [
    "## 6- O irb do ruby \n",
    "Este pode ser usado para testar as funcionalidades desta applicação, no entanto o irb não sabe quais as novas classes Rake\n",
    "  que usamos na nossa aplicação. Para que possamos aceder as classes vamos criar uma nova tarefa Rake\n",
    "  no ficheiro ```Rakefile``` :\n",
    "  ```ruby\n",
    "  ...\n",
    "  task :console do\n",
    "    require 'irb'\n",
    "    require 'irb/completion'\n",
    "    require 'minetest/cli' # point to your application start file.\n",
    "\n",
    "    def reload!\n",
    "\n",
    "      files = $LOADED_FEATURES.select { |feat| feat =~ /\\/my_gem\\// }\n",
    "      files.each { |file| load file }\n",
    "    end\n",
    "\n",
    "    ARGV.clear\n",
    "    IRB.start\n",
    "  end\n",
    "  ```"
   ]
  },
  {
   "cell_type": "markdown",
   "metadata": {},
   "source": [
    "Agora podemos testar o comando hello dentro do irb assim como outras definições e como verificar os valores de retorno, o conteudo das variaveis e a execuçao das classes. Usando o irb Também facilita ver que metodos ou implementações existem em classes provenientes de gems de terceiros e usadas nesta applicação."
   ]
  },
  {
   "cell_type": "markdown",
   "metadata": {},
   "source": [
    "```\n",
    "$ rake console\n",
    "```"
   ]
  },
  {
   "cell_type": "markdown",
   "metadata": {},
   "source": [
    "```sh\n",
    ":001 > ci = Minetest::CommandInterface.new\n",
    " => #<Minetest::CommandInterface:0x00007fb1b9928598 @_invocations={}, @_initializer=[[], {}, {}], @options={}, @args=[], @shell=#<Thor::Shell::Color:0x00007fb1ba897308 @base=#<Minetest::CommandInterface:0x00007fb1b9928598 ...>, @mute=false, @padding=0, @always_force=false>> \n",
    ":002 > ci.hello(\"world\")\n",
    "Hello, world\n",
    " => nil \n",
    "```"
   ]
  },
  {
   "cell_type": "markdown",
   "metadata": {},
   "source": [
    "Para sair do irb, escreva \"exit\""
   ]
  },
  {
   "cell_type": "markdown",
   "metadata": {},
   "source": [
    "## 7- Implementar os comandos\n",
    "Agora que tudo esta parece bem, podemos começar a implementar os comandos da applicaçao. No ficheiro ```command_interface.rb``` removemos a definição ```hello``` e adicionamos o primeiro comando ```server```\n",
    "\n",
    "```rb\n",
    "require \"thor\"\n",
    "require \"highline/import\"\n",
    "```\n",
    "```sh\n",
    "  $VERBOSE = true\n",
    "  $thor_runner = nil\n",
    "```\n",
    "```rb\n",
    "module Minetest\n",
    "  class CommandInterface < Thor\n",
    "    check_unknown_options!\n",
    "        \n",
    "    # The Server Command\n",
    "    desc \"server [ start | stop | restart ] [-m --map]\", \"Operates the Minetest Server Service\"\n",
    "    long_desc <<-DESC\n",
    "    The server commnad is used to control the basic operations of the minetest server.\n",
    "    this commnad needs a local minetest server installed configured.\n",
    "    DESC\n",
    "```\n",
    "```rb\n",
    "    map %w[-m --map] => :map, :desc => \"map name Start with custom map.\", :banner => \" map_name\"\n",
    "    \n",
    "    def server( sub_command )\n",
    "      \n",
    "      if [\"start\", \"stop\", \"restart\"].include? sub_command.downcase\n",
    "        command = \"systemctl service #{sub_command} minetest-server\"\n",
    "        command << \" --config=#{options[:map]}.conf \" if options[:map]\n",
    "        puts command\n",
    "      else\n",
    "        help(\"server\")\n",
    "      end \n",
    "    end\n",
    "    # End of Server Command\n",
    "\t\n",
    "    private\n",
    "    \n",
    "    def self.exit_on_failure?\n",
    "      ci = CommandInterface.new\n",
    "      ci.help\n",
    "    end\n",
    "    \n",
    "  end\n",
    "end\n",
    "```"
   ]
  },
  {
   "cell_type": "markdown",
   "metadata": {},
   "source": [
    "Testamos o comando e as opções"
   ]
  },
  {
   "cell_type": "markdown",
   "metadata": {},
   "source": [
    "```\n",
    "$ bundle exec bin/minetest-cli server start\n",
    "  systemctl service start minetest-server\n",
    "\n",
    "$ bundle exec bin/minetest-cli server stop\n",
    "  systemctl service stop minetest-server\n",
    "\n",
    "$ bundle exec bin/minetest-cli server restart\n",
    "  systemctl service restart minetest-server\n",
    "  \n",
    "$ bundle exec bin/minetest-cli server start --map black_castle\n",
    "  systemctl service start minetest-server --config=black_castle.conf \n",
    "  \n",
    "$ bundle exec bin/minetest-cli server stop --map black_castle\n",
    "  systemctl service stop minetest-server\n",
    "  \n",
    "$ bundle exec bin/minetest-cli server restart --map black_castle\n",
    "  systemctl service restart minetest-server --config=black_castle.conf \n",
    "  \n",
    "$ bundle exec bin/minetest-cli server start -m black_castle\n",
    "  systemctl service start minetest-server --config=black_castle.conf \n",
    "  \n",
    "$ bundle exec bin/minetest-cli server stop -m black_castle\n",
    "  systemctl service stop minetest-server\n",
    "  \n",
    "$ bundle exec bin/minetest-cli server restart -m black_castle\n",
    "  systemctl service restart minetest-server --config=black_castle.conf\n",
    "  \n",
    "$ bundle exec bin/minetest-cli help server\n",
    "  Usage:\n",
    "    minetest-cli server [ start | stop | restart ] [-m --map]\n",
    "\n",
    "  Options:\n",
    "    -m, [--map= map_name]  # map name Start with custom map.\n",
    "\n",
    "  Description:\n",
    "    The server commnad is used to control the basic operations of the minetest server. this commnad needs a\n",
    "    local minetest server installed configured.\n",
    "```"
   ]
  },
  {
   "cell_type": "markdown",
   "metadata": {},
   "source": [
    "Os comandos funcionam como esperado."
   ]
  },
  {
   "cell_type": "markdown",
   "metadata": {},
   "source": [
    "## 8 - Implementar o comando generate. \n",
    "vamos inserir o comando depois do server command, mas antes da palavra reservada ```private``` (daqui para baixo so devem haver metodos accessiveis apenas a esta classe)\n",
    "  ```ruby\n",
    "  ...\n",
    "  # the Generate Command\n",
    "  desc 'generate [ map | template ] [ map_name ] ', 'Generates a new map configuration'\n",
    "  long_desc \"The generate commnad is used to a create new maps / templates that can be used on the minetest server.\"\n",
    "  option :from_map, :aliases => '-f', type: :array, :desc => \"map name From existing custom map/template.\", :banner => \" map_name\"\n",
    "  def generate(sub_command, *map_name)\n",
    "    \n",
    "    if ([\"map\", \"template\"].include? sub_command.downcase) && map_name.to_s.empty?\n",
    "      if \"map\".include? sub_command.downcase\n",
    "        \n",
    "        input = ask \"Provide the new map name: \"\n",
    "        command = \"cp white_castle.template #{input.to_s.downcase.split.join('_')}.conf\"\n",
    "        puts command\n",
    "        \n",
    "      elsif \"template\".include? sub_command.downcase\n",
    "        \n",
    "        input = ask \"Provide the new map template name: \"\n",
    "        command = \"cp white_castle.template #{input.to_s.downcase.split.join('_')}.conf\"\n",
    "        puts command\n",
    "        \n",
    "      end\n",
    "      \n",
    "    elsif ([\"map\", \"template\"].include? sub_command.downcase) && !map_name.to_s.empty?\n",
    "      \n",
    "      puts sub_command.downcase + \" \" + map_name.join('_').downcase + \" \" + options.from_map.join('_').downcase\n",
    "      \n",
    "    else\n",
    "      help(\"generate\")\n",
    "    end\n",
    "   \n",
    "  end\n",
    "  # End of Generate Command\n",
    "  ...\n",
    "  ``` \n",
    "   Testamos o comando e as opções"
   ]
  },
  {
   "cell_type": "markdown",
   "metadata": {},
   "source": [
    "```\n",
    "$ bundle exec bin/minetest-cli generate\n",
    "  ERROR: \"minetest-cli generate\" was called with no arguments\n",
    "  Usage: \"minetest-cli generate [ map | template ] [ map_name ]\"\n",
    "  Commands:\n",
    "    minetest-cli backup [ list | create ] [ restore ]                  # Manipulates backups of map configur...\n",
    "    minetest-cli edit [ map | template ] [ map_name / template_name ]  # Edits your configuration map\n",
    "    minetest-cli generate [ map | template ] [ map_name ]              # Generates a new map configuration\n",
    "    minetest-cli get_data                                              # Deletes an existing map configurations\n",
    "    minetest-cli help [COMMAND]                                        # Describe available commands or one ...\n",
    "    minetest-cli remove                                                # Deletes an existing map configurations\n",
    "    minetest-cli server [ start | stop | restart ] [-m --map]          # Operates the Minetest Server Service\n",
    "\n",
    "$ bundle exec bin/minetest-cli generate map\n",
    "  Provide the new map name:  mynewmap\n",
    "  cp white_castle.template mynewmap.conf\n",
    "\n",
    "$ bundle exec bin/minetest-cli generate template\n",
    "  Provide the new map template name:  mynewtemplate\n",
    "  cp white_castle.template mynewtemplate.template\n",
    "\n",
    "$ bundle exec bin/minetest-cli generate map frommap\n",
    "  cp white_castle.conf frommap.conf\n",
    "\n",
    "$ bundle exec bin/minetest-cli generate template newtemplatemap\n",
    "  cp white_castle.template newtemplatemap.template\n",
    "\n",
    "```"
   ]
  },
  {
   "cell_type": "markdown",
   "metadata": {},
   "source": [
    "os comandos funcionam como esperado.\n",
    "\n",
    "## 9 -  Implementar o comando edit. \n",
    "vamos inserir o comando depois do generate command, mas antes da palavra reservada ```private``` (daqui para baixo so devem haver metodos accessiveis apenas a esta classe)\n",
    "```ruby\n",
    "...\n",
    "# the Edit Command\n",
    "desc 'edit [ map | template ] [ map_name / template_name ] ', 'Edits your configuration map'\n",
    "long_desc \" The edit commnad is used to edit the contents of a map to be used on the minetest server.\"\n",
    "def edit(sub_command, *map_name)\n",
    "  \n",
    "  if ([\"map\", \"template\"].include? sub_command.downcase) && map_name.to_s.empty?\n",
    "    if \"map\".include? sub_command.downcase\n",
    "      \n",
    "      input = ask \"Provide the map name to edit: \"\n",
    "      command = \"vi #{input.to_s.downcase.split.join('_')}.conf\"\n",
    "      puts command\n",
    "   \t  \n",
    "    elsif \"template\".include? sub_command.downcase\n",
    "      \n",
    "      input = ask \"Provide the map template name to edit: \"\n",
    "      command = \"vi #{input.to_s.downcase.split.join('_')}.template\"\n",
    "      puts command\n",
    "   \t  \n",
    "    end\n",
    "    \n",
    "  elsif ([\"map\", \"template\"].include? sub_command.downcase) && !map_name.to_s.empty?\n",
    "    \n",
    "    if \"map\".include? sub_command.downcase\n",
    "      \n",
    "      command = \"vi #{map_name.join('_').downcase}.conf\"\n",
    "      puts command\n",
    "   \t  \n",
    "    elsif \"template\".include? sub_command.downcase\n",
    "      \n",
    "      command = \"vi #{map_name.join('_').downcase}.template\"\n",
    "      puts command\n",
    "   \t  \n",
    "    end\n",
    "    \n",
    "  else\n",
    "    help(\"edit\")\n",
    "  end\n",
    " \n",
    "end\n",
    "# End of edit Command\n",
    "...\n",
    "``` \n",
    "   \n",
    "   Testamos o comando e as opções"
   ]
  },
  {
   "cell_type": "markdown",
   "metadata": {},
   "source": [
    "```\n",
    "$ bundle exec bin/minetest-cli edit \n",
    "    ERROR: \"minetest-cli edit\" was called with no arguments\n",
    "    Usage: \"minetest-cli edit [ map | template ] [ map_name / template_name ]\"\n",
    "    Commands:\n",
    "      minetest-cli backup [ list | create ] [ restore ]                  # Manipulates backups of map configur...\n",
    "      minetest-cli edit [ map | template ] [ map_name / template_name ]  # Edits your configuration map\n",
    "      minetest-cli generate [ map | template ] [ map_name ]              # Generates a new map configuration\n",
    "      minetest-cli get_data                                              # Deletes an existing map configurations\n",
    "      minetest-cli help [COMMAND]                                        # Describe available commands or one ...\n",
    "      minetest-cli remove                                                # Deletes an existing map configurations\n",
    "      minetest-cli server [ start | stop | restart ] [-m --map]          # Operates the Minetest Server Service\n",
    "\n",
    "$ bundle exec bin/minetest-cli edit map\n",
    "    Provide the map name to edit:  white_castle\n",
    "    vi white_castle.conf\n",
    "\n",
    "$ bundle exec bin/minetest-cli edit template\n",
    "    Provide the map template name to edit:  White_castle\n",
    "    vi white_castle.template\n",
    "```"
   ]
  },
  {
   "cell_type": "markdown",
   "metadata": {},
   "source": [
    "os comandos funcionam como esperado.\n",
    "\n",
    "## 10 - Implementar o comando backup. \n",
    "vamos inserir o comando depois do comando edit, mas antes da palavra reservada ```private``` (daqui para baixo so devem haver metodos accessiveis apenas a esta classe)\n",
    "   \n",
    "```ruby\n",
    "...\n",
    "# the Backup Command\n",
    "desc 'backup [ list | create ] [ restore ] ', 'Manipulates backups of map configurations'\n",
    "long_desc \"The backup commnad is used to backup and restore maps / templates that can be used on the minetest server.\"\n",
    "option :levels, :aliases => '-l', type: :numeric, :desc => \"Number of backups to keep.\", :banner => \" map_name\"\n",
    "def backup(sub_command, *map_name)\n",
    "  \n",
    "  if ([\"list\", \"create\", \"restore\"].include? sub_command.downcase)\n",
    "    \n",
    "    backup_directory_name = \"./backup-files\"\n",
    "    conf_directory_name = \"./custom-maps\"\n",
    "    backup_list = []\n",
    "    \n",
    "    if \"list\".include? sub_command.downcase\n",
    "      \n",
    "      Dir.mkdir(backup_directory_name) unless File.exist?(backup_directory_name)\n",
    "      existing_files = Dir.glob(\"#{backup_directory_name}/*.backup\t  \n",
    "      if !existing_files.empty?\n",
    "        existing_files.each do |file|\n",
    "          backup_list << File.basename(file, '.backup')\n",
    "        end\n",
    "          \n",
    "        backup_list.each do |e|\n",
    "          e = e.split(\"-\")\n",
    "          puts \"      -[#{e[0]}] : backup Level N.#{e[1]}\"\n",
    "        end\n",
    "        \n",
    "      else\n",
    "        puts \"No backups found in \" + backup_directory_name\n",
    "      end\n",
    "      \n",
    "    elsif \"create\".include? sub_command.downcase\n",
    "      \n",
    "      Dir.mkdir(conf_directory_name) unless File.exist?(conf_directory_name)\n",
    "      existing_files = Dir.glob(\"#{conf_directory_name}/*.conf\t  \n",
    "      if !existing_files.empty?\n",
    "        existing_files.each do |file|\n",
    "          backup_list << File.basename(file, '.conf')\n",
    "        end\n",
    "        \n",
    "        puts \"Available maps for backup:\"\n",
    "        n = 0\n",
    "        backup_list.each do |e|\n",
    "          n += 1\n",
    "          puts \"   [#{n}]-> #{e}\"\n",
    "        end\n",
    "        pick = ask \"Select the map number you want to backup:\"\n",
    "        pick = pick.chomp.to_i \n",
    "        \n",
    "        if pick <= n && !pick.nil? && !pick.zero?\n",
    "          puts \"cp #{conf_directory_name}/#{backup_list[pick - 1]}.conf #{backup_directory_name}/#{backup_list[pick - 1]}.template\"\n",
    "        else\n",
    "          puts \"Operation aborted. The user did not select a proper number.\"\n",
    "        end\n",
    "      else\n",
    "        puts \"No Maps where found in \" + conf_directory_name\n",
    "      end\n",
    "    \n",
    "    elsif \"restore\".include? sub_command.downcase\n",
    "      \n",
    "      puts \"for you to implement, and do not forget the backup levels option ...\"\n",
    "      \n",
    "    end\n",
    "    \n",
    "  else\n",
    "    help(\"backup\")\n",
    "  end\n",
    " \n",
    "end\n",
    "# End of Backup Command\n",
    "...\n",
    "``` \n",
    "   \n",
    "Testamos o comando e as opções"
   ]
  },
  {
   "cell_type": "markdown",
   "metadata": {},
   "source": [
    "```\n",
    "$ bundle exec bin/minetest-cli backup \n",
    "ERROR: \"minetest-cli backup\" was called with no arguments\n",
    "Usage: \"minetest-cli backup [ list | create ] [ restore ]\"\n",
    "Commands:\n",
    "  minetest-cli backup [ list | create ] [ restore ]                  # Manipulates backups of map co...\n",
    "  minetest-cli edit [ map | template ] [ map_name / template_name ]  # Edits your configuration map\n",
    "  minetest-cli generate [ map | template ] [ map_name ]              # Generates a new map configura...\n",
    "  minetest-cli get_data                                              # Deletes an existing map confi...\n",
    "  minetest-cli help [COMMAND]                                        # Describe available commands o...\n",
    "  minetest-cli remove                                                # Deletes an existing map confi...\n",
    "  minetest-cli server [ start | stop | restart ] [-m --map]          # Operates the Minetest Server ...\n",
    "\n",
    "$ bundle exec bin/minetest-cli backup list\n",
    "      -[white_castle] : backup Level N.2\n",
    "      -[black_castle] : backup Level N.1\n",
    "      -[white_castle] : backup Level N.1\n",
    "      -[white_castle] : backup Level N.3\n",
    "      -[black_castle] : backup Level N.2\n",
    "\n",
    "$ bundle exec bin/minetest-cli backup create\n",
    "Available maps for backup:\n",
    "   [1]-> white_castle\n",
    "   [2]-> black_castle\n",
    "Select the map number you want to backup: 1\n",
    "cp ./custom-maps/white_castle.conf ./backup-files/white_castle.template\n",
    "\n",
    "$ bundle exec bin/minetest-cli backup restore\n",
    "for you to implement, and do not forget the backup levels option ...\n",
    "```"
   ]
  },
  {
   "cell_type": "markdown",
   "metadata": {},
   "source": [
    "Os comandos funcionam como esperado.\n",
    "\n",
    "## 11 - Implementar o comando remove. \n",
    "vamos inserir o comando depois do comando backup, mas antes da palavra reservada ```private``` (daqui para baixo so devem haver metodos accessiveis apenas a esta classe)\n",
    "   \n",
    "```ruby\n",
    "...\n",
    "# the remove Command\n",
    "  desc 'remove', 'Deletes an existing map configurations'\n",
    "  long_desc \"The remove commnad is used to remove maps & backups used on the minetest server.\"\n",
    "  def remove\n",
    "      \n",
    "    backup_directory_name = \"./backup-files\"\n",
    "    conf_directory_name = \"./custom-maps\"\n",
    "    files_list = []\n",
    "      \n",
    "    begin\n",
    "        \n",
    "      Dir.mkdir(conf_directory_name) unless File.exist?(conf_directory_name)\n",
    "      Dir.mkdir(conf_directory_name) unless File.exist?(backup_directory_name)\n",
    "        \n",
    "      existing_files = (Dir.glob(\"#{conf_directory_name}/*.conf\"))\n",
    "      existing_files += (Dir.glob(\"#{conf_directory_name}/*.template\"))\n",
    "      existing_files += (Dir.glob(\"#{backup_directory_name}/*.backup\"))\n",
    "        \n",
    "      if !existing_files.empty?\n",
    "        existing_files.each do |file|\n",
    "          files_list << File.basename(file)\n",
    "        end\n",
    "          \n",
    "        puts \"Available files to remove:\"\n",
    "        n = 0\n",
    "        files_list.each do |e|\n",
    "          n += 1\n",
    "          puts \"   [#{n}]-> #{e}\"\n",
    "        end\n",
    "        pick = ask \"Select the file number you want to remove:\"\n",
    "        pick = pick.chomp.to_i \n",
    "          \n",
    "        if pick <= n && !pick.nil? && !pick.zero?\n",
    "          confirmed = ask \"are you sure? [Y/N]\"\n",
    "          confirmed = confirmed[0].chomp.downcase\n",
    "            \n",
    "          if confirmed == \"y\"\n",
    "            puts \"rm #{existing_files[pick - 1]}\"\n",
    "          end\n",
    "            \n",
    "        else\n",
    "          puts \"Operation aborted. The user did not select a proper number.\"\n",
    "        end\n",
    "      else\n",
    "        puts \"No Maps or backups where found. Plase check your paths.\"\n",
    "      end\n",
    "        \n",
    "    rescue\n",
    "      help(\"remove\")\n",
    "    end\n",
    "     \n",
    "  end\n",
    "  # End of Remove Command\n",
    "...\n",
    "``` \n",
    "   \n",
    "Testamos o comando"
   ]
  },
  {
   "cell_type": "markdown",
   "metadata": {},
   "source": [
    "```\n",
    "$ bundle exec bin/minetest-cli remove\n",
    "Available files to remove:\n",
    "   [1]-> white_castle.conf\n",
    "   [2]-> black_castle.conf\n",
    "   [3]-> white_castle-2.backup\n",
    "   [4]-> black_castle-1.backup\n",
    "   [5]-> white_castle-1.backup\n",
    "   [6]-> white_castle-3.backup\n",
    "   [7]-> black_castle-2.backup\n",
    "Select the file number you want to remove: 3\n",
    "are you sure? [Y/N] y\n",
    "rm ./backup-files/white_castle-2.backup\n",
    "```"
   ]
  },
  {
   "cell_type": "markdown",
   "metadata": {},
   "source": [
    "Os comandos funcionam como esperado.\n",
    "\n"
   ]
  },
  {
   "cell_type": "markdown",
   "metadata": {},
   "source": [
    "Editar o ficheiro ```minetest/cli/version.rb```\n",
    "e atualizar a versão da nossa applicação:\n",
    "```rb\n",
    "module Minetest\n",
    "  module Cli\n",
    "    VERSION = \"0.2.0\"\n",
    "  end\n",
    "end\n",
    "```\n",
    "E Atualizar no github:"
   ]
  },
  {
   "cell_type": "markdown",
   "metadata": {},
   "source": [
    "```\n",
    "$ git add .\n",
    "\n",
    "$ git commit -am \"update version\"\n",
    "\n",
    "$ git push\n",
    "\n",
    "$ git log --pretty=oneline\n",
    "c24c8f4... (HEAD -> master, origin/master) update version\n",
    "bdd12c8... update version\n",
    "b5887f1... update commands\n",
    "b3b6361... Added changelog rake task\n",
    "320f79b... (tag: v0.1) Added changelog rake task\n",
    "fae9ed2... Added changelog rake task\n",
    "d71a03a... Update Changelog\n",
    "7df3602... Initial gem Skeleton\n",
    "\n",
    "$ git tag -fa v0.2 c24c8f4...\n",
    "\n",
    "$ git push --tags -f\n",
    "Enumerating objects: 1, done.\n",
    "Counting objects: 100% (1/1), done.\n",
    "Writing objects: 100% (1/1), 165 bytes | 165.00 KiB/s, done.\n",
    "Total 1 (delta 0), reused 0 (delta 0)\n",
    "To https://github.com/JulioPapel/minetest-cli.git\n",
    " * [new tag]         v0.2 -> v0.2\n",
    "\n",
    "$ rake changelog\n",
    "\n",
    "$ git add .\n",
    "\n",
    "$ git commit -am \"update CHANGELOG\"\n",
    "\n",
    "$ git push\n",
    "```"
   ]
  },
  {
   "cell_type": "markdown",
   "metadata": {},
   "source": [
    "## 12 - Gerar o ficheiro gem\n",
    "Agora que temos um código fantastico, vamos compilar tudo em um só ficheiro .gem utitlizando o comando \"gem\" no terminal.\n",
    "no directório minitest-cli:"
   ]
  },
  {
   "cell_type": "markdown",
   "metadata": {},
   "source": [
    "```\n",
    "$ gem build minetest-cli.gemspec\n",
    "```"
   ]
  },
  {
   "cell_type": "markdown",
   "metadata": {},
   "source": [
    "Este comando constroi a gem e o nome do ficheiro inclui o número da versão. minetest-cli-0.2.0. E podes ignorar os alertas.\n",
    "\n",
    "Successfully built RubyGem\n",
    "  Name: minetest-cli\n",
    "  Version: 0.2.0\n",
    "  File: minetest-cli-0.2.0.gem\n",
    "\n",
    "E assim está concluído este exemplo de uma aplicação de linha de comandos em Ruby. Espero que tenham gostado e que a partir deste exemplo possam criar novas aplicações CLI para gerir, configurar, modificar ou automatizar tarefas nos vossos computadores e servidores. Muitos exemplos de manipulação e edição de ficheiros, para um ou outro Sistema Operativo podem facilmente ser encontrados na web. "
   ]
  }
 ],
 "metadata": {
  "kernelspec": {
   "display_name": "Ruby 2.5.3",
   "language": "ruby",
   "name": "ruby"
  },
  "language_info": {
   "file_extension": ".rb",
   "mimetype": "application/x-ruby",
   "name": "ruby",
   "version": "2.5.3"
  }
 },
 "nbformat": 4,
 "nbformat_minor": 2
}
